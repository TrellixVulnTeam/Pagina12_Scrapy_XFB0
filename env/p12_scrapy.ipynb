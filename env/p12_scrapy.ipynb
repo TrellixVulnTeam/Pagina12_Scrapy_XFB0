{
 "cells": [
  {
   "cell_type": "code",
   "execution_count": 1,
   "metadata": {},
   "outputs": [],
   "source": [
    "import scrapy"
   ]
  },
  {
   "cell_type": "code",
   "execution_count": 2,
   "metadata": {},
   "outputs": [],
   "source": [
    "class Spider12(scrapy.Spider):\n",
    "    name = 'spider12'\n",
    "    allowed_domains = ['pagina12.com.ar']\n",
    "    custom_settingd = {'FEED_FORMAT': 'json',\n",
    "                      'FEED_URI': 'resultados.json',\n",
    "                      'DEPTH_LIMIT': 2}\n",
    "    \n",
    "    star_urls = ['https://www.pagina12.com.ar/secciones/el-pais',\n",
    "                 'https://www.pagina12.com.ar/secciones/economia',\n",
    "                 'https://www.pagina12.com.ar/secciones/sociedad',\n",
    "                 'https://www.pagina12.com.ar/suplementos/cultura-y-espectaculos',\n",
    "                 'https://www.pagina12.com.ar/secciones/deportes',\n",
    "                 'https://www.pagina12.com.ar/secciones/el-mundo',\n",
    "                 'https://www.pagina12.com.ar/secciones/universidad-diario']\n",
    "    \n",
    "    def parse(self, response):\n",
    "        #Artículo promocionado\n",
    "        nota_promocionada = response.xpath('//section[@class=\"top-content\"]//h2/a/@href').get()\n",
    "        if nota_promocionada is not None:\n",
    "            yield response.follow(nota_promocionada, callback=self.parse_nota)\n",
    "            \n",
    "        # Listado de notas\n",
    "        notas = response.xpath('//div[@class=\"article-list\"]//h4/a/@href').getall()\n",
    "        for nota in notas:\n",
    "            yield response.follow(nota, callback=self.parse_nota)\n",
    "                                           \n",
    "        #Link a la siguiente pagina\n",
    "        next_page = response.xpath('//a[@class\"next\"]/@href')\n",
    "        if next_page is not None:\n",
    "            yield response.follow(next_page)\n",
    "                                        \n",
    "            \n",
    "    def parse_nota(self, response):\n",
    "        #Paseo la nota\n",
    "        titulo = response.xpath('//div[@class=\"article-titles\"]/h1/text()').get()\n",
    "        cuerpo = response.xpath('//div[@class=\"article-text\"]/p/text()').getall()\n",
    "        yield {'url': response.url,\n",
    "                'titulo': titulo,\n",
    "                'cuerpo': cuerpo}"
   ]
  },
  {
   "cell_type": "code",
   "execution_count": 3,
   "metadata": {},
   "outputs": [],
   "source": [
    "from scrapy.crawler import CrawlerProcess"
   ]
  },
  {
   "cell_type": "code",
   "execution_count": 4,
   "metadata": {},
   "outputs": [
    {
     "name": "stderr",
     "output_type": "stream",
     "text": [
      "2020-11-10 15:23:46 [scrapy.utils.log] INFO: Scrapy 2.4.0 started (bot: scrapybot)\n",
      "2020-11-10 15:23:46 [scrapy.utils.log] INFO: Versions: lxml 4.6.1.0, libxml2 2.9.5, cssselect 1.1.0, parsel 1.6.0, w3lib 1.22.0, Twisted 20.3.0, Python 3.8.6rc1 (tags/v3.8.6rc1:08bd63d, Sep  7 2020, 23:10:23) [MSC v.1927 64 bit (AMD64)], pyOpenSSL 19.1.0 (OpenSSL 1.1.1h  22 Sep 2020), cryptography 3.2.1, Platform Windows-10-10.0.18362-SP0\n",
      "2020-11-10 15:23:46 [scrapy.utils.log] DEBUG: Using reactor: twisted.internet.selectreactor.SelectReactor\n",
      "2020-11-10 15:23:46 [scrapy.crawler] INFO: Overridden settings:\n",
      "{}\n",
      "2020-11-10 15:23:46 [scrapy.extensions.telnet] INFO: Telnet Password: 7b0193eebd4cab0c\n",
      "2020-11-10 15:23:47 [scrapy.middleware] INFO: Enabled extensions:\n",
      "['scrapy.extensions.corestats.CoreStats',\n",
      " 'scrapy.extensions.telnet.TelnetConsole',\n",
      " 'scrapy.extensions.logstats.LogStats']\n",
      "2020-11-10 15:23:48 [scrapy.middleware] INFO: Enabled downloader middlewares:\n",
      "['scrapy.downloadermiddlewares.httpauth.HttpAuthMiddleware',\n",
      " 'scrapy.downloadermiddlewares.downloadtimeout.DownloadTimeoutMiddleware',\n",
      " 'scrapy.downloadermiddlewares.defaultheaders.DefaultHeadersMiddleware',\n",
      " 'scrapy.downloadermiddlewares.useragent.UserAgentMiddleware',\n",
      " 'scrapy.downloadermiddlewares.retry.RetryMiddleware',\n",
      " 'scrapy.downloadermiddlewares.redirect.MetaRefreshMiddleware',\n",
      " 'scrapy.downloadermiddlewares.httpcompression.HttpCompressionMiddleware',\n",
      " 'scrapy.downloadermiddlewares.redirect.RedirectMiddleware',\n",
      " 'scrapy.downloadermiddlewares.cookies.CookiesMiddleware',\n",
      " 'scrapy.downloadermiddlewares.httpproxy.HttpProxyMiddleware',\n",
      " 'scrapy.downloadermiddlewares.stats.DownloaderStats']\n",
      "2020-11-10 15:23:48 [scrapy.middleware] INFO: Enabled spider middlewares:\n",
      "['scrapy.spidermiddlewares.httperror.HttpErrorMiddleware',\n",
      " 'scrapy.spidermiddlewares.offsite.OffsiteMiddleware',\n",
      " 'scrapy.spidermiddlewares.referer.RefererMiddleware',\n",
      " 'scrapy.spidermiddlewares.urllength.UrlLengthMiddleware',\n",
      " 'scrapy.spidermiddlewares.depth.DepthMiddleware']\n",
      "2020-11-10 15:23:48 [scrapy.middleware] INFO: Enabled item pipelines:\n",
      "[]\n",
      "2020-11-10 15:23:48 [scrapy.core.engine] INFO: Spider opened\n",
      "2020-11-10 15:23:48 [scrapy.extensions.logstats] INFO: Crawled 0 pages (at 0 pages/min), scraped 0 items (at 0 items/min)\n",
      "2020-11-10 15:23:48 [scrapy.extensions.telnet] INFO: Telnet console listening on 127.0.0.1:6023\n",
      "2020-11-10 15:23:48 [scrapy.core.engine] INFO: Closing spider (finished)\n",
      "2020-11-10 15:23:48 [scrapy.statscollectors] INFO: Dumping Scrapy stats:\n",
      "{'elapsed_time_seconds': 0.098114,\n",
      " 'finish_reason': 'finished',\n",
      " 'finish_time': datetime.datetime(2020, 11, 10, 20, 23, 48, 431319),\n",
      " 'log_count/INFO': 10,\n",
      " 'start_time': datetime.datetime(2020, 11, 10, 20, 23, 48, 333205)}\n",
      "2020-11-10 15:23:48 [scrapy.core.engine] INFO: Spider closed (finished)\n"
     ]
    }
   ],
   "source": [
    "process = CrawlerProcess()\n",
    "process.crawl(Spider12)\n",
    "process.start()"
   ]
  }
 ],
 "metadata": {
  "kernelspec": {
   "display_name": "Python 3",
   "language": "python",
   "name": "python3"
  },
  "language_info": {
   "codemirror_mode": {
    "name": "ipython",
    "version": 3
   },
   "file_extension": ".py",
   "mimetype": "text/x-python",
   "name": "python",
   "nbconvert_exporter": "python",
   "pygments_lexer": "ipython3",
   "version": "3.8.6rc1"
  }
 },
 "nbformat": 4,
 "nbformat_minor": 4
}
